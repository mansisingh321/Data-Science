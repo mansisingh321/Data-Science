{
 "cells": [
  {
   "cell_type": "markdown",
   "id": "365226bd-4ebd-4be3-97e9-d7683096f466",
   "metadata": {},
   "source": [
    "## ASSIGNMENT - MULTIPROCESSING "
   ]
  },
  {
   "cell_type": "markdown",
   "id": "0ab0cafa-21b4-463d-8d4a-367a4d0e2687",
   "metadata": {},
   "source": [
    "#### Que1 What is multiprocessing in python? Why is it useful?"
   ]
  },
  {
   "cell_type": "markdown",
   "id": "31dc6bb1-9cc5-4cee-8345-7522023fbb1e",
   "metadata": {},
   "source": [
    "Ans : Multiprocessing in Python refers to the technique of utilizing multiple processes to execute tasks in parallel, taking advantage of modern multicore processors. It allow us to create and manage multiple processes, each with its own memory space, this is more commonly used threading module, which involves multiple threads within a single process.\n",
    "\n",
    "Why is it useful?\n",
    "1. It improves the performance and speed of the execution like heavy calculations and data processing by using multiple CPU cores.\n",
    "2.  If one process crashes, it doesnot affect the other processes, as they operate independently.\n"
   ]
  },
  {
   "cell_type": "code",
   "execution_count": null,
   "id": "aade06a8-2a0e-4fda-bb3c-eb692237e3e3",
   "metadata": {},
   "outputs": [],
   "source": []
  },
  {
   "cell_type": "markdown",
   "id": "1daa05e0-d53d-460f-80aa-c2977be90aed",
   "metadata": {},
   "source": [
    "#### Q2. What are the differences between multiprocessing and multithreading?"
   ]
  },
  {
   "cell_type": "markdown",
   "id": "992318f7-b031-4772-803b-87953aa2d98b",
   "metadata": {},
   "source": [
    "Ans : Multiprocessing and multithreading are both techniques used to archieve conurrent execution in a program. but have different techniques. \n",
    "\n",
    "Multiprocessing :\n",
    "1. In multiprocessing, multiple processes are created, each with its own memory space and pythpn interpreter. Processes run independently of each other and can execute tasks concurrenlty.\n",
    "2. These processes are isolated from each other, means one process's memory generally won't affect others.\n",
    "3. Processes communicates through mechansims like pipes, queues, and shared memory. Synchronization is necessary to ensure data consistency and avoid race conditions.\n",
    "\n",
    "Multithreading :\n",
    "1. In Multiithreading, multiple threads are created within a single single process. Threads share same memory space and resources of the parent process.\n",
    "2. Threads with same process same memory space, which can lead to complex issues if not managed properly.\n",
    "3. Threads within a process share memory space, making communication  and synchronization between threads more stratightforward but also prone issues like race conditions and deadlocks.\n",
    "\n"
   ]
  },
  {
   "cell_type": "code",
   "execution_count": null,
   "id": "bef428bb-abf2-4efa-86d9-89ff19d4eda0",
   "metadata": {},
   "outputs": [],
   "source": []
  },
  {
   "cell_type": "markdown",
   "id": "87ed44c4-21bd-48eb-9417-9c1b093f9ec7",
   "metadata": {},
   "source": [
    "#### Que3. Write a python code to create a process using the multiprocessing module."
   ]
  },
  {
   "cell_type": "markdown",
   "id": "49c79b1a-1b93-4668-a5b4-bb4b5d6cf9c2",
   "metadata": {},
   "source": [
    "Ans : "
   ]
  },
  {
   "cell_type": "code",
   "execution_count": 9,
   "id": "3805d15a-4e0e-4bc5-ac54-b0e686bef94e",
   "metadata": {},
   "outputs": [
    {
     "name": "stdout",
     "output_type": "stream",
     "text": [
      "Worker 0 is executing.\n",
      "Worker 1 is executing.\n",
      "Worker 2 is executing.\n",
      "Worker 3 is executing.\n",
      "All processes have finished.\n"
     ]
    }
   ],
   "source": [
    "import multiprocessing\n",
    "\n",
    "def worker_function(number):\n",
    "    print(f\"Worker {number} is executing.\")\n",
    "\n",
    "if __name__ == \"__main__\":\n",
    "    num_processes = 4\n",
    "    processes = []\n",
    "\n",
    "    for i in range(num_processes):\n",
    "        process = multiprocessing.Process(target=worker_function, args=(i,))\n",
    "        processes.append(process)\n",
    "        process.start()\n",
    "\n",
    "    for process in processes:\n",
    "        process.join()\n",
    "\n",
    "    print(\"All processes have finished.\")\n"
   ]
  },
  {
   "cell_type": "markdown",
   "id": "1c2cfbf8-be9b-4f90-b60d-019868f7008a",
   "metadata": {},
   "source": [
    "#### Q4. What is a multiprocessing pool in python? Why is it used?"
   ]
  },
  {
   "cell_type": "markdown",
   "id": "3f213a51-26d6-4204-a85f-7515a437a3a6",
   "metadata": {},
   "source": [
    "Ans : \n",
    "A multiprocessing pool in Python, specifically provided by the multiprocessing module, is a mechanism that allows you to manage a pool of worker processes, each capable of executing tasks concurrently. \n",
    "The main purpose of using a multiprocessing pool is to distribute tasks across multiple processes, enabling parallel execution and utilizing the available CPU cores effectively."
   ]
  },
  {
   "cell_type": "code",
   "execution_count": 10,
   "id": "bcc54fbd-5695-482e-a4d4-9e3d73798d02",
   "metadata": {},
   "outputs": [
    {
     "name": "stdout",
     "output_type": "stream",
     "text": [
      "Result from worker 0\n",
      "Result from worker 1\n",
      "Result from worker 2\n",
      "Result from worker 3\n"
     ]
    }
   ],
   "source": [
    "import multiprocessing\n",
    "\n",
    "def worker_function(number):\n",
    "    return f\"Result from worker {number}\"\n",
    "\n",
    "if __name__ == \"__main__\":\n",
    "    num_processes = 4\n",
    "\n",
    "    with multiprocessing.Pool(processes=num_processes) as pool:\n",
    "        results = pool.map(worker_function, range(num_processes))\n",
    "\n",
    "    for result in results:\n",
    "        print(result)\n"
   ]
  },
  {
   "cell_type": "code",
   "execution_count": null,
   "id": "21f555a1-759a-4b51-bca8-16a2ab4ff38b",
   "metadata": {},
   "outputs": [],
   "source": []
  },
  {
   "cell_type": "markdown",
   "id": "7e727829-3b65-48cf-9eb3-a336843c86d5",
   "metadata": {},
   "source": [
    "#### Q5. How can we create a pool of worker processes in python using the multiprocessing module?"
   ]
  },
  {
   "cell_type": "markdown",
   "id": "c93d944f-2014-4ec2-90ca-6cd06d125413",
   "metadata": {},
   "source": [
    "Ans : We can create a pool of worker processes in Python using the 'multiprocessing ' module 'Pool' class. The 'Pool' class provides a high-level interface for creating and managing a pool of worker processes."
   ]
  },
  {
   "cell_type": "code",
   "execution_count": 11,
   "id": "d8aa995e-b23f-4e4d-9f87-bd29a2a03253",
   "metadata": {},
   "outputs": [
    {
     "name": "stdout",
     "output_type": "stream",
     "text": [
      "Result from worker 0\n",
      "Result from worker 1\n",
      "Result from worker 2\n",
      "Result from worker 3\n"
     ]
    }
   ],
   "source": [
    "import multiprocessing\n",
    "\n",
    "def worker_function(number):\n",
    "    return f\"Result from worker {number}\"\n",
    "\n",
    "if __name__ == \"__main__\":\n",
    "    num_processes = 4\n",
    "\n",
    "    with multiprocessing.Pool(processes=num_processes) as pool:\n",
    "        results = pool.map(worker_function, range(num_processes))\n",
    "\n",
    "    for result in results:\n",
    "        print(result)\n"
   ]
  },
  {
   "cell_type": "code",
   "execution_count": null,
   "id": "5e4220fb-690d-4f6c-b639-ef500c73391a",
   "metadata": {},
   "outputs": [],
   "source": []
  },
  {
   "cell_type": "markdown",
   "id": "f88efb6d-f850-4e6b-a60a-a1d0ec227bf8",
   "metadata": {},
   "source": [
    "#### Que6 . Write a python program to create 4 processes, each process should print a different number using the multiprocessing module in python."
   ]
  },
  {
   "cell_type": "markdown",
   "id": "ed3e4bad-5f89-4797-a785-41894b810108",
   "metadata": {},
   "source": [
    "Ans : "
   ]
  },
  {
   "cell_type": "code",
   "execution_count": 12,
   "id": "f85399dc-d191-40ee-ad8b-521ef7e58740",
   "metadata": {},
   "outputs": [
    {
     "name": "stdout",
     "output_type": "stream",
     "text": [
      "Process 0: 0\n",
      "Process 1: 1\n",
      "Process 2: 2\n",
      "Process 3: 3\n",
      "All processes have finished.\n"
     ]
    }
   ],
   "source": [
    "import multiprocessing\n",
    "\n",
    "def print_number(number):\n",
    "    print(f\"Process {number}: {number}\")\n",
    "\n",
    "if __name__ == \"__main__\":\n",
    "    processes = []\n",
    "\n",
    "    for i in range(4):\n",
    "        process = multiprocessing.Process(target=print_number, args=(i,))\n",
    "        processes.append(process)\n",
    "        process.start()\n",
    "\n",
    "    for process in processes:\n",
    "        process.join()\n",
    "\n",
    "    print(\"All processes have finished.\")\n"
   ]
  },
  {
   "cell_type": "code",
   "execution_count": null,
   "id": "01ebcd86-7ec0-4663-b98a-d282b0cf1654",
   "metadata": {},
   "outputs": [],
   "source": []
  }
 ],
 "metadata": {
  "kernelspec": {
   "display_name": "Python 3 (ipykernel)",
   "language": "python",
   "name": "python3"
  },
  "language_info": {
   "codemirror_mode": {
    "name": "ipython",
    "version": 3
   },
   "file_extension": ".py",
   "mimetype": "text/x-python",
   "name": "python",
   "nbconvert_exporter": "python",
   "pygments_lexer": "ipython3",
   "version": "3.10.8"
  }
 },
 "nbformat": 4,
 "nbformat_minor": 5
}
