{
 "cells": [
  {
   "cell_type": "markdown",
   "id": "0925d1fc-1884-4c86-8743-0f2961d6bc14",
   "metadata": {},
   "source": [
    "## ASSIGNMENT "
   ]
  },
  {
   "cell_type": "code",
   "execution_count": 2,
   "id": "f8dacadb-9417-434e-910c-87e51069f7a6",
   "metadata": {},
   "outputs": [],
   "source": [
    "# Que1 : To sort the given list of tuples based on integer value using a lambda function .\n",
    "\n",
    "lst = [('Sachin Tendulkar', 34357), ('Ricky Pointing', 27483), ('Jack Kallis', 25534), ('Virat Kohli', 24936)]"
   ]
  },
  {
   "cell_type": "code",
   "execution_count": 9,
   "id": "b982e533-1a7f-4f67-a728-932c40a2e764",
   "metadata": {},
   "outputs": [
    {
     "name": "stdout",
     "output_type": "stream",
     "text": [
      "[('Virat Kohli', 24936), ('Jack Kallis', 25534), ('Ricky Pointing', 27483), ('Sachin Tendulkar', 34357)]\n"
     ]
    }
   ],
   "source": [
    "lst.sort(key = lambda x : x[1])\n",
    "print(lst)\n"
   ]
  },
  {
   "cell_type": "code",
   "execution_count": 22,
   "id": "76ab78ac-157a-4432-a0c1-0e1f57d758d4",
   "metadata": {},
   "outputs": [],
   "source": [
    "# Que 2: To find square of all the numbers given in the list using lambda and map functions.\n",
    "\n",
    "a = [1,2,3,4,5,6,7,8,9,10]"
   ]
  },
  {
   "cell_type": "code",
   "execution_count": 24,
   "id": "4d07335a-3dbb-46c6-8229-5e78da018c19",
   "metadata": {},
   "outputs": [
    {
     "data": {
      "text/plain": [
       "[1, 4, 9, 16, 25, 36, 49, 64, 81, 100]"
      ]
     },
     "execution_count": 24,
     "metadata": {},
     "output_type": "execute_result"
    }
   ],
   "source": [
    "list(map(lambda x : x**2, a))"
   ]
  },
  {
   "cell_type": "code",
   "execution_count": 25,
   "id": "ef920556-0b39-4320-99e5-53907b54287d",
   "metadata": {},
   "outputs": [],
   "source": [
    "# Que 3: Convert the list of integers into tuple of strings using map and lambda functions.\n",
    "\n",
    "lst = [1,2,3,4,5,6,7,8,9,10]"
   ]
  },
  {
   "cell_type": "code",
   "execution_count": 30,
   "id": "8d2bfc47-576c-4fed-a325-2b075a39887a",
   "metadata": {},
   "outputs": [
    {
     "data": {
      "text/plain": [
       "('1', '2', '3', '4', '5', '6', '7', '8', '9', '10')"
      ]
     },
     "execution_count": 30,
     "metadata": {},
     "output_type": "execute_result"
    }
   ],
   "source": [
    "tuple(map(lambda x : str(x), lst))"
   ]
  },
  {
   "cell_type": "code",
   "execution_count": 37,
   "id": "4fb4bff0-1591-4c44-aa1c-1812d869ad64",
   "metadata": {},
   "outputs": [],
   "source": [
    "# Que 4 :  Compute the product of a list containing numbers from 1 to 25 using reduce function.\n",
    "\n",
    "lst2=list(range(1,26)) # list containing numbers from 1 to 25"
   ]
  },
  {
   "cell_type": "code",
   "execution_count": 38,
   "id": "4c262f4a-5df2-46ea-a6c4-4a6d920ed675",
   "metadata": {},
   "outputs": [],
   "source": [
    "def product(x,y):\n",
    "    return x * y "
   ]
  },
  {
   "cell_type": "code",
   "execution_count": 40,
   "id": "2b18e6c0-2461-4c34-ac8e-c18494a0c456",
   "metadata": {},
   "outputs": [],
   "source": [
    "from functools import reduce"
   ]
  },
  {
   "cell_type": "code",
   "execution_count": 41,
   "id": "7e9373bb-b809-4821-8144-7aaf90367ce8",
   "metadata": {},
   "outputs": [
    {
     "data": {
      "text/plain": [
       "15511210043330985984000000"
      ]
     },
     "execution_count": 41,
     "metadata": {},
     "output_type": "execute_result"
    }
   ],
   "source": [
    "reduce(product, lst2)"
   ]
  },
  {
   "cell_type": "code",
   "execution_count": 7,
   "id": "9f4f13a1-06fb-4514-ba06-39c72a07d475",
   "metadata": {},
   "outputs": [],
   "source": [
    "# Que 5 : Filter the numbers in the given list that are divisible by 2 and 3 using filter function\n",
    "\n",
    "lst3 = [2, 3, 6, 9, 27, 60, 90, 120, 55, 46]"
   ]
  },
  {
   "cell_type": "code",
   "execution_count": 96,
   "id": "ba6f909a-4b95-4cfb-af22-1afd762cdebc",
   "metadata": {},
   "outputs": [
    {
     "data": {
      "text/plain": [
       "[6, 60, 90, 120]"
      ]
     },
     "execution_count": 96,
     "metadata": {},
     "output_type": "execute_result"
    }
   ],
   "source": [
    "list(filter(lambda x :  x%2==0 and x%3==0, lst3))"
   ]
  },
  {
   "cell_type": "code",
   "execution_count": 14,
   "id": "fa86b567-9cb7-4026-bfd8-7f28bc35ebfc",
   "metadata": {},
   "outputs": [],
   "source": [
    "# Que 6 :  Find palindromes in the given list of strings using lambda and filter function.\n",
    "\n",
    "my_list = ['python', 'php', 'aba', 'radar', 'level']"
   ]
  },
  {
   "cell_type": "code",
   "execution_count": 16,
   "id": "29bd52cd-3e0e-492e-8382-8b65463f6634",
   "metadata": {},
   "outputs": [
    {
     "data": {
      "text/plain": [
       "['php', 'aba', 'radar', 'level']"
      ]
     },
     "execution_count": 16,
     "metadata": {},
     "output_type": "execute_result"
    }
   ],
   "source": [
    "list(filter(lambda x : x == (''.join(reversed(x))), my_list))"
   ]
  },
  {
   "cell_type": "code",
   "execution_count": 53,
   "id": "6a687bdd-2858-4687-9bbd-15afd8e5c8c9",
   "metadata": {},
   "outputs": [
    {
     "data": {
      "text/plain": [
       "['php', 'aba', 'radar', 'level']"
      ]
     },
     "execution_count": 53,
     "metadata": {},
     "output_type": "execute_result"
    }
   ],
   "source": [
    "# We can do question 6 like this too..\n",
    "\n",
    "list(filter(lambda x : x[0]==x[-1] and x[1] == x[-2] and x[2]==x[-3], my_list))"
   ]
  },
  {
   "cell_type": "code",
   "execution_count": null,
   "id": "538d53ef-e7ad-4e91-969f-90defbd882c6",
   "metadata": {},
   "outputs": [],
   "source": []
  }
 ],
 "metadata": {
  "kernelspec": {
   "display_name": "Python 3 (ipykernel)",
   "language": "python",
   "name": "python3"
  },
  "language_info": {
   "codemirror_mode": {
    "name": "ipython",
    "version": 3
   },
   "file_extension": ".py",
   "mimetype": "text/x-python",
   "name": "python",
   "nbconvert_exporter": "python",
   "pygments_lexer": "ipython3",
   "version": "3.10.8"
  }
 },
 "nbformat": 4,
 "nbformat_minor": 5
}
