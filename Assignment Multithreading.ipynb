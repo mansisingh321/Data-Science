{
 "cells": [
  {
   "cell_type": "markdown",
   "id": "89bac36c-5ea5-4e61-a0e7-cef1d1c5f76d",
   "metadata": {},
   "source": [
    "## ASSIGNMENT 8 - MULTI-THREADING"
   ]
  },
  {
   "cell_type": "markdown",
   "id": "a40eebd1-67dd-4317-951c-eff35a03c5f6",
   "metadata": {},
   "source": [
    "Que 1 : What is multithreading in python? Why is it used? Name the module used to handle threads in python.\n",
    "\n",
    "Ans. Multithreading in Python refers to the concurrent execution of multiple threads within a single program. Multithreading allows a program to perform multiple tasks simultaneously, thereby improving performance and responsiveness.\n",
    "\n",
    "** Why is it used?\n",
    "Multithreading helps keep a program responsive by allowing it to perform multiple tasks simultaneously.\n",
    "By utilizing multiple threads, a program can make efficient use of system resources and improve overall performance.\n",
    "\n",
    "The module threading is used to handle threads. It is in-built module provided by Python."
   ]
  },
  {
   "cell_type": "code",
   "execution_count": null,
   "id": "30b037aa-1058-46d1-93e3-503714e67e96",
   "metadata": {},
   "outputs": [],
   "source": []
  },
  {
   "cell_type": "markdown",
   "id": "d9213fbd-3889-40dc-bcc9-890d0543deab",
   "metadata": {},
   "source": [
    "#### Que 2:  Why threading module used? Write the use of the following functions. \n",
    "#### 1. activeCount\n",
    "#### 2. currentThread. \n",
    "#### 3. enumerate.\n",
    "\n",
    "\n",
    "Ans. The threading module in Python is used for working with threads, which are separate execution flows within a program.  It provides functions and classes to create, manage, and control threads.\n",
    "\n",
    "1. activeCount(): The activeCount() function returns the number of Thread objects currently alive, including the main thread. It provides a count of the total number of active threads in the program.\n",
    "\n",
    "2. currentThread(): The currentThread() function returns the currently executing Thread object. It is often used to obtain information about the currently running thread, such as its name, identification, or other attributes.\n",
    "\n",
    "3. enumerate(): The enumerate() function returns a list of all Thread objects currently alive, including the main thread. It provides a way to obtain a list of active threads in the program.\n"
   ]
  },
  {
   "cell_type": "code",
   "execution_count": null,
   "id": "cb30bf0c-7005-4f83-95d3-2091473fec03",
   "metadata": {},
   "outputs": [],
   "source": []
  },
  {
   "cell_type": "markdown",
   "id": "29c7bc41-2b36-4372-bd5a-05c28a7eae31",
   "metadata": {},
   "source": [
    "#### Que 3   Explain the following functions:  run, start, join, isAlive.\n",
    "\n",
    "Ans.  The functions run(), start(), join(), and isAlive() are all related to working with threads in Python's threading module.\n",
    "\n",
    "1. run() : The run() method is called to specify the activity or task to be performed by a thread. It represents the entry point for the thread's execution. We typically override the run() method to define the behavior of the thread.\n",
    "2. start() : The start() method is used to start the execution of a thread.\n",
    "3. join()  : The join() method is used to wait for a thread to complete its execution. It blocks the program's execution until the thread on which it is called finishes its task.\n",
    "4. isAlive() : The isAlive() method is used to check whether a thread is currently executing or alive. It returns a boolean value indicating the thread's execution status."
   ]
  },
  {
   "cell_type": "code",
   "execution_count": null,
   "id": "aa785153-fe70-48b0-9118-54148ff8f838",
   "metadata": {},
   "outputs": [],
   "source": []
  },
  {
   "cell_type": "markdown",
   "id": "6e891c67-8774-4a4e-953d-831d4edaead0",
   "metadata": {},
   "source": [
    "#### Que 4 :  Write a python program to create two threads. Thread one must print the list of squares and thread two must print the list of cubes."
   ]
  },
  {
   "cell_type": "code",
   "execution_count": 3,
   "id": "7e614675-2ce0-4328-8713-7864109eac23",
   "metadata": {},
   "outputs": [],
   "source": [
    "# Ans : \n",
    "import threading\n",
    "\n",
    "def squares():\n",
    "    for i in range(1,11):\n",
    "        print(f\"Square of {i} : {i**2}\" )\n"
   ]
  },
  {
   "cell_type": "code",
   "execution_count": 4,
   "id": "e678f06c-5cfb-409b-8c2c-524e250fff83",
   "metadata": {},
   "outputs": [],
   "source": [
    " def cubes():\n",
    "     for i in range(1,11):\n",
    "              print(f\"Cube of {i} : {i**3}\")\n",
    "                    "
   ]
  },
  {
   "cell_type": "code",
   "execution_count": 5,
   "id": "b1acba18-c9c4-452f-99af-379af2246b06",
   "metadata": {},
   "outputs": [],
   "source": [
    "if __name__ == '__main__':\n",
    "    thread1 = threading.Thread(target = squares)\n",
    "    thread2 = threading.Thread(target = cubes)\n",
    "    "
   ]
  },
  {
   "cell_type": "code",
   "execution_count": null,
   "id": "9e797cfe-748c-44e4-8cb8-3bc1bae7367d",
   "metadata": {},
   "outputs": [],
   "source": [
    "thread1.start()"
   ]
  },
  {
   "cell_type": "code",
   "execution_count": 9,
   "id": "de7f8913-3cab-4b7b-94d0-ecfb0d317c8e",
   "metadata": {},
   "outputs": [
    {
     "name": "stdout",
     "output_type": "stream",
     "text": [
      "Cube of 1 : 1\n",
      "Cube of 2 : 8\n",
      "Cube of 3 : 27\n",
      "Cube of 4 : 64\n",
      "Cube of 5 : 125\n",
      "Cube of 6 : 216\n",
      "Cube of 7 : 343\n",
      "Cube of 8 : 512\n",
      "Cube of 9 : 729\n",
      "Cube of 10 : 1000\n"
     ]
    }
   ],
   "source": [
    "thread2.start()"
   ]
  },
  {
   "cell_type": "code",
   "execution_count": 10,
   "id": "aee10069-fec4-4835-8012-2bd2641f0d64",
   "metadata": {},
   "outputs": [],
   "source": [
    "thread1.join()\n",
    "thread2.join()"
   ]
  },
  {
   "cell_type": "code",
   "execution_count": null,
   "id": "88e9e61c-f3b5-4410-a11b-d630c03509d5",
   "metadata": {},
   "outputs": [],
   "source": []
  },
  {
   "cell_type": "markdown",
   "id": "5393d7d0-b855-4120-af4c-2ab5190fc9fe",
   "metadata": {},
   "source": [
    "#### Que5. State advantages and disadvantages of multithreading"
   ]
  },
  {
   "cell_type": "markdown",
   "id": "616cd91a-ae64-41fc-891d-7372c460c79a",
   "metadata": {},
   "source": [
    "Ans : \n",
    "Advantages of Multithreading :\n",
    "1. It impoves the performance of our program by taking advantage of multiple CPU cores. Therefore it reduces overall execution time.\n",
    "2. Threads with the same process share the same memory space, which lead to efficient sharing of data and resources, reduces the need for inter-process communication mechanisms.\n",
    "3. Threads are lighter weight than processes because they share same resources.\n",
    "4. Multithreading enables paralle execution of tasks, useful for applications that require paralle processing, such as simulations, scientific computations and data analysis.\n",
    "5. Sometimes, instead of creating the seperate processes for different tasks, we can use threads to manage various of our application.\n"
   ]
  },
  {
   "cell_type": "markdown",
   "id": "155d97ae-0790-4698-aca5-779540dab4d1",
   "metadata": {},
   "source": [
    "Disadvantages of Multithreading : \n",
    "1. Multiprogramming programming can be more complex than single threading programming. Issues like thread sychronization, race conditions, and deadlocks can arise, leads to hard-to-debug problems.\n",
    "2. Withput proper synchronization, threads may access shared resources simultaneously, leading to unpredictable behaviour and data corruption.\n",
    "3. Identifying and solving bugs can be challenging due to non-deterministic nature of thread scheduling and interactions.\n",
    "4. Multithreading can be sometimes less portable between operating systems due to variations in thread support and behaviour.\n",
    "5. Shared memory space can lead to security vulnerabilities if not managed properly."
   ]
  },
  {
   "cell_type": "code",
   "execution_count": null,
   "id": "e7fc494a-0313-4df3-9954-dde515299ec3",
   "metadata": {},
   "outputs": [],
   "source": []
  },
  {
   "cell_type": "markdown",
   "id": "de4e0422-2661-4617-91f7-602efb0e9f9e",
   "metadata": {},
   "source": [
    "#### Que6. Explain deadlocks and race conditions."
   ]
  },
  {
   "cell_type": "markdown",
   "id": "f45a00fa-f64e-44e3-b98f-ce0aca839a70",
   "metadata": {},
   "source": [
    "Ans : \n",
    "Deadlock :  A deadlock occurs in a multithreaded system when two or more threads or processes are unable to proceed because each is waiting for a resource that the other(s) holds. In other words, it's a situation where a group of threads/processes are blocked and cannot continue execution because they are all waiting for resources that are locked by other threads/processes in the same group.\n",
    "\n",
    "Race conditions : A race condition arises when two or more threads/processes access shared data concurrently, and at least one of them modifies the data. The outcome of the program becomes unpredictable because the order of execution and scheduling of threads/processes is not guaranteed.\n"
   ]
  }
 ],
 "metadata": {
  "kernelspec": {
   "display_name": "Python 3 (ipykernel)",
   "language": "python",
   "name": "python3"
  },
  "language_info": {
   "codemirror_mode": {
    "name": "ipython",
    "version": 3
   },
   "file_extension": ".py",
   "mimetype": "text/x-python",
   "name": "python",
   "nbconvert_exporter": "python",
   "pygments_lexer": "ipython3",
   "version": "3.10.8"
  }
 },
 "nbformat": 4,
 "nbformat_minor": 5
}
