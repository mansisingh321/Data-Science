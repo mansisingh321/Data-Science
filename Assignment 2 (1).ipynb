{
 "cells": [
  {
   "cell_type": "markdown",
   "id": "72a96c14-3d73-4062-8f8c-e8369693210b",
   "metadata": {},
   "source": [
    "## Assignment 2"
   ]
  },
  {
   "cell_type": "code",
   "execution_count": null,
   "id": "26fc5e7e-5c40-426c-803f-91869bf3828b",
   "metadata": {},
   "outputs": [],
   "source": [
    "# Que 1 :\n",
    "\"\"\"There are two different types of comments:\n",
    "1. Single line comment (#)\n",
    "2. Multi line comment (\"\"\"  \"\"\" or '''  ''')\n",
    "\"\"\""
   ]
  },
  {
   "cell_type": "code",
   "execution_count": null,
   "id": "a94a15d4-89cb-45b8-8098-dbceabdd4582",
   "metadata": {},
   "outputs": [],
   "source": [
    "# Que2 :\n",
    "# Variables --> Variables are used to denote objects by that name, In the given example, a is variable.\n",
    "a = 10\n",
    "a"
   ]
  },
  {
   "cell_type": "code",
   "execution_count": 1,
   "id": "d44e5646-1299-4f38-907d-76690a320e03",
   "metadata": {},
   "outputs": [
    {
     "data": {
      "text/plain": [
       "float"
      ]
     },
     "execution_count": 1,
     "metadata": {},
     "output_type": "execute_result"
    }
   ],
   "source": [
    "# Que 3\n",
    "# We can use typecasting to convert one data type to another in python.\n",
    "a = 10.6\n",
    "type(a)"
   ]
  },
  {
   "cell_type": "code",
   "execution_count": 3,
   "id": "ea75e168-bb67-49d0-bbfb-2046d7fea34f",
   "metadata": {},
   "outputs": [
    {
     "data": {
      "text/plain": [
       "10"
      ]
     },
     "execution_count": 3,
     "metadata": {},
     "output_type": "execute_result"
    }
   ],
   "source": [
    "int(a) # We have typecasted a float into an integer varaible"
   ]
  },
  {
   "cell_type": "code",
   "execution_count": null,
   "id": "c1a4db1c-0c05-414f-92db-15ab938216f3",
   "metadata": {},
   "outputs": [],
   "source": [
    "# Que 4 :\n",
    "\"\"\" To write and execute a Python script from the command line, \n",
    "We need to open a command line and type the word python followed by the path to our script file\n",
    "like this:  pythonfirst_script.py Hello World!. Then hit the ENTER button from the keyboard."
   ]
  },
  {
   "cell_type": "code",
   "execution_count": 6,
   "id": "7acf6acb-2bb5-4f1e-bd89-d6db2041c9fb",
   "metadata": {},
   "outputs": [
    {
     "data": {
      "text/plain": [
       "[2, 3]"
      ]
     },
     "execution_count": 6,
     "metadata": {},
     "output_type": "execute_result"
    }
   ],
   "source": [
    "# Que 5 : To write a code to slice this list and obtain [2,3]\n",
    "my_list = [1,2,3,4,5]\n",
    "my_list[1:3]"
   ]
  },
  {
   "cell_type": "code",
   "execution_count": 9,
   "id": "731e0334-1c4d-4134-ac55-7a138c3c8e6f",
   "metadata": {},
   "outputs": [
    {
     "data": {
      "text/plain": [
       "complex"
      ]
     },
     "execution_count": 9,
     "metadata": {},
     "output_type": "execute_result"
    }
   ],
   "source": [
    "# Que 6 :\n",
    "# Complex numbers: The numbers that are expressed in the form of a+ib where, a and b are real numbers and i (iota) is imaginary number.\n",
    "# In python, Complex numbers are represented as:\n",
    "\n",
    "a = 1 + 2j\n",
    "type(a)"
   ]
  },
  {
   "cell_type": "code",
   "execution_count": 10,
   "id": "322de56b-7f94-4848-a590-c62c5f7f4fc1",
   "metadata": {},
   "outputs": [],
   "source": [
    "# Que 7 :\n",
    "age = 25"
   ]
  },
  {
   "cell_type": "code",
   "execution_count": 11,
   "id": "ee14f5c4-dc24-407f-9c36-a63c48e72403",
   "metadata": {},
   "outputs": [
    {
     "data": {
      "text/plain": [
       "float"
      ]
     },
     "execution_count": 11,
     "metadata": {},
     "output_type": "execute_result"
    }
   ],
   "source": [
    "# Que 8 :\n",
    "price = 9.99\n",
    "type(price) # float datatype"
   ]
  },
  {
   "cell_type": "code",
   "execution_count": 12,
   "id": "211a50d0-1687-4f7f-93ac-301ce631a190",
   "metadata": {},
   "outputs": [
    {
     "name": "stdout",
     "output_type": "stream",
     "text": [
      "Mansi Singh\n"
     ]
    }
   ],
   "source": [
    "# Que 9 :\n",
    "name = 'Mansi Singh'\n",
    "print(name)"
   ]
  },
  {
   "cell_type": "code",
   "execution_count": 16,
   "id": "4d159db0-f41c-4149-b224-60a9c4058cd4",
   "metadata": {},
   "outputs": [
    {
     "data": {
      "text/plain": [
       "'World'"
      ]
     },
     "execution_count": 16,
     "metadata": {},
     "output_type": "execute_result"
    }
   ],
   "source": [
    "# Que 10 :  To extract the substring World\n",
    "string = \"Hello, World!\"\n",
    "string[7:12]"
   ]
  },
  {
   "cell_type": "code",
   "execution_count": 18,
   "id": "8a3f0f43-3945-49ca-9d10-555bd559b1ed",
   "metadata": {},
   "outputs": [],
   "source": [
    "# Que 11 : \n",
    "is_student = True"
   ]
  },
  {
   "cell_type": "code",
   "execution_count": null,
   "id": "15a99d7f-458a-4bb2-a9d5-729d4186ad24",
   "metadata": {},
   "outputs": [],
   "source": []
  }
 ],
 "metadata": {
  "kernelspec": {
   "display_name": "Python 3 (ipykernel)",
   "language": "python",
   "name": "python3"
  },
  "language_info": {
   "codemirror_mode": {
    "name": "ipython",
    "version": 3
   },
   "file_extension": ".py",
   "mimetype": "text/x-python",
   "name": "python",
   "nbconvert_exporter": "python",
   "pygments_lexer": "ipython3",
   "version": "3.10.8"
  }
 },
 "nbformat": 4,
 "nbformat_minor": 5
}
