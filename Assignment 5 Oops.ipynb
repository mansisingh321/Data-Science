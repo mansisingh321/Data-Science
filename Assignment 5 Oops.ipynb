{
 "cells": [
  {
   "cell_type": "markdown",
   "id": "0892c657-603b-4f52-9a45-82c10f9bf04b",
   "metadata": {},
   "source": [
    "## OOPS  ASSIGNMENT 2 "
   ]
  },
  {
   "cell_type": "code",
   "execution_count": 1,
   "id": "aba98bb1-02de-4c65-82af-e10208afef58",
   "metadata": {},
   "outputs": [],
   "source": [
    "# Que 1:  Create a vehicle class with an init method having instance variables as name_of_vehicle, max_speed, average_of_vehicle.\n"
   ]
  },
  {
   "cell_type": "code",
   "execution_count": 2,
   "id": "9f97a308-a24f-48cf-9942-985e23aea9da",
   "metadata": {},
   "outputs": [],
   "source": [
    "  class vehicle :\n",
    "        def __init__ (self, vehicle, speed, average):\n",
    "            self.name_of_vehicle =  vehicle\n",
    "            self.max_speed = speed\n",
    "            self.average_of_vehicle = average\n",
    "            "
   ]
  },
  {
   "cell_type": "code",
   "execution_count": 3,
   "id": "a42041b4-9f65-4ae1-9300-0e9c3110328c",
   "metadata": {},
   "outputs": [],
   "source": [
    "obj_vehicle = vehicle(\"Jaguar\", 120, 60)"
   ]
  },
  {
   "cell_type": "code",
   "execution_count": 4,
   "id": "01ef8a47-4756-4c9a-805c-5ce06dbf5c4a",
   "metadata": {},
   "outputs": [
    {
     "data": {
      "text/plain": [
       "60"
      ]
     },
     "execution_count": 4,
     "metadata": {},
     "output_type": "execute_result"
    }
   ],
   "source": [
    "obj_vehicle.average_of_vehicle"
   ]
  },
  {
   "cell_type": "code",
   "execution_count": 5,
   "id": "37d91b62-bf74-469f-9611-1051a04185d0",
   "metadata": {},
   "outputs": [
    {
     "data": {
      "text/plain": [
       "120"
      ]
     },
     "execution_count": 5,
     "metadata": {},
     "output_type": "execute_result"
    }
   ],
   "source": [
    "obj_vehicle.max_speed"
   ]
  },
  {
   "cell_type": "code",
   "execution_count": 6,
   "id": "4551fdb8-eb67-43e0-95e8-e3a3f023258e",
   "metadata": {},
   "outputs": [
    {
     "data": {
      "text/plain": [
       "'Jaguar'"
      ]
     },
     "execution_count": 6,
     "metadata": {},
     "output_type": "execute_result"
    }
   ],
   "source": [
    "obj_vehicle.name_of_vehicle"
   ]
  },
  {
   "cell_type": "code",
   "execution_count": 7,
   "id": "f7a6209a-fa74-4f9e-8793-5e4685137947",
   "metadata": {},
   "outputs": [],
   "source": [
    "# Que2 : Create a child class car from vehicle class created in que1, which will inherit the vehicle class.\n",
    "# Create a method names seating_capacity which takes capacity as an argument and returns the name of vehicle and its seating capacity"
   ]
  },
  {
   "cell_type": "code",
   "execution_count": 8,
   "id": "91a1f291-b205-47ce-ad22-9bba07a85f31",
   "metadata": {},
   "outputs": [],
   "source": [
    "class car(vehicle):\n",
    "        \n",
    "        def seating_capacity(self, capacity):\n",
    "            print(self.name_of_vehicle, capacity)"
   ]
  },
  {
   "cell_type": "code",
   "execution_count": 9,
   "id": "34baef0b-48b8-4f78-8903-c83dde81e6a9",
   "metadata": {},
   "outputs": [],
   "source": [
    "obj_car = car(\"jaguar\", 120, 70)"
   ]
  },
  {
   "cell_type": "code",
   "execution_count": 10,
   "id": "c17712e7-573b-4393-9470-14e482d3793f",
   "metadata": {},
   "outputs": [
    {
     "name": "stdout",
     "output_type": "stream",
     "text": [
      "jaguar 6\n"
     ]
    }
   ],
   "source": [
    "obj_car.seating_capacity(6)"
   ]
  },
  {
   "cell_type": "code",
   "execution_count": 11,
   "id": "ad33e089-fc34-4ad3-908f-b94de2123ac6",
   "metadata": {},
   "outputs": [
    {
     "name": "stdout",
     "output_type": "stream",
     "text": [
      "The bird is flying.\n",
      "The mammal is feeding its young.\n"
     ]
    }
   ],
   "source": [
    "# Que 3: What is multiple inheritance? Write a python code to demonstrate multiple inheritance.\n",
    "\n",
    "###  Multiple Inheritance:\n",
    "# Multiple inheritance occurs when a derived class inherits properties and behaviors from multiple base classes. The derived class combines the features of all the base classes.\n",
    "#  Example:\n",
    "\n",
    "class Bird:\n",
    "    def fly(self):\n",
    "        print(\"The bird is flying.\")\n",
    "\n",
    "class Mammal:\n",
    "    def feed_young(self):\n",
    "        print(\"The mammal is feeding its young.\")\n",
    "\n",
    "class Bat(Bird, Mammal):\n",
    "    pass\n",
    "\n",
    "\n",
    "bat = Bat()\n",
    "bat.fly()  # Inherited from Bird class\n",
    "bat.feed_young()  # Inherited from Mammal class"
   ]
  },
  {
   "cell_type": "code",
   "execution_count": 2,
   "id": "b6c0841c-0de8-4a4f-b1b2-173a71a7d6a3",
   "metadata": {},
   "outputs": [],
   "source": [
    "# Que 4:   What are getter and setter in python? Create a class and create a  getter and a setter method in this class.\n",
    "\n",
    "# Ans.   getters and setters are methods used to access and modify the properties of a class. They provide an interface to retrieve and update the values of private attributes, encapsulating the data and providing controlled access.\n",
    "\n",
    "class car:\n",
    "    def __init__ (self, name, speed, average):\n",
    "        self.__name = name \n",
    "        self.__speed = speed\n",
    "        self.average= average\n",
    "        \n",
    "             \n",
    "    @property     # getter property\n",
    "    def get_name_access(self):\n",
    "        return self.__name\n",
    "    \n",
    "    @get_name_access.setter    # setter property\n",
    "    def get_name_access_set(self, name):\n",
    "            self.__name = name\n",
    "            return self.__name"
   ]
  },
  {
   "cell_type": "code",
   "execution_count": 3,
   "id": "89bd1e7d-22f2-4808-83de-08fce1343b72",
   "metadata": {},
   "outputs": [],
   "source": [
    "obj_car = car(\"Toyota\", 80, 60)"
   ]
  },
  {
   "cell_type": "code",
   "execution_count": 4,
   "id": "0678480a-37df-4996-a2d7-3b7b2be39977",
   "metadata": {},
   "outputs": [
    {
     "data": {
      "text/plain": [
       "60"
      ]
     },
     "execution_count": 4,
     "metadata": {},
     "output_type": "execute_result"
    }
   ],
   "source": [
    "obj_car.average"
   ]
  },
  {
   "cell_type": "code",
   "execution_count": 5,
   "id": "021a78c1-ed03-47d4-9c3b-6a2151d8402e",
   "metadata": {},
   "outputs": [
    {
     "data": {
      "text/plain": [
       "'Toyota'"
      ]
     },
     "execution_count": 5,
     "metadata": {},
     "output_type": "execute_result"
    }
   ],
   "source": [
    "obj_car.get_name_access"
   ]
  },
  {
   "cell_type": "code",
   "execution_count": 6,
   "id": "1a596385-e6b5-49d7-9051-4b6ab79bd68f",
   "metadata": {},
   "outputs": [],
   "source": [
    "obj_car.get_name_access_set=\"Jaguar\""
   ]
  },
  {
   "cell_type": "code",
   "execution_count": 7,
   "id": "c76d36ce-017e-44ff-b092-8648c89a6542",
   "metadata": {},
   "outputs": [
    {
     "data": {
      "text/plain": [
       "'Jaguar'"
      ]
     },
     "execution_count": 7,
     "metadata": {},
     "output_type": "execute_result"
    }
   ],
   "source": [
    "obj_car.get_name_access"
   ]
  },
  {
   "cell_type": "code",
   "execution_count": null,
   "id": "54c07e04-5396-42e4-ab25-6f3eb98c2a24",
   "metadata": {},
   "outputs": [],
   "source": []
  },
  {
   "cell_type": "code",
   "execution_count": 8,
   "id": "5f11d1f2-3156-4ed2-8bae-25f494e34ef3",
   "metadata": {},
   "outputs": [],
   "source": [
    "# Que 5 : What is method overriding in python? Write a python code to demonstrate method overriding.\n",
    "\n",
    "# Method overriding in Python occurs when a derived class defines a method with the same name as a method in its base class.\n",
    "# The overridden method in the derived class replaces the implementation of the method inherited from the base class.\n",
    "# This allows the derived class to provide a specialized implementation of the method.\n",
    "# Example:  \n",
    "\n",
    "class Shape:\n",
    "    def draw(self):\n",
    "        print(\"Drawing a shape.\")\n",
    "\n",
    "class Circle(Shape):\n",
    "    def draw(self):\n",
    "        print(\"Drawing a circle.\")\n",
    "\n",
    "class Square(Shape):\n",
    "    def draw(self):\n",
    "        print(\"Drawing a square.\")\n"
   ]
  },
  {
   "cell_type": "code",
   "execution_count": 9,
   "id": "bf2d9b32-b255-4e7e-8329-fbd07d502548",
   "metadata": {},
   "outputs": [],
   "source": [
    "circle = Circle()"
   ]
  },
  {
   "cell_type": "code",
   "execution_count": 10,
   "id": "f7c90efd-bee2-4011-aca9-4c6703b8d00a",
   "metadata": {},
   "outputs": [],
   "source": [
    "square = Square()"
   ]
  },
  {
   "cell_type": "code",
   "execution_count": 11,
   "id": "3fe7b783-9edf-4841-81f6-e49977f36d4e",
   "metadata": {},
   "outputs": [
    {
     "name": "stdout",
     "output_type": "stream",
     "text": [
      "Drawing a circle.\n"
     ]
    }
   ],
   "source": [
    "circle.draw()"
   ]
  },
  {
   "cell_type": "code",
   "execution_count": 12,
   "id": "3c20a8da-f7e4-495e-b200-146928002442",
   "metadata": {},
   "outputs": [
    {
     "name": "stdout",
     "output_type": "stream",
     "text": [
      "Drawing a square.\n"
     ]
    }
   ],
   "source": [
    "square.draw()"
   ]
  },
  {
   "cell_type": "code",
   "execution_count": null,
   "id": "1da02ec1-559e-4078-b6c5-b8b3f8177c24",
   "metadata": {},
   "outputs": [],
   "source": []
  }
 ],
 "metadata": {
  "kernelspec": {
   "display_name": "Python 3 (ipykernel)",
   "language": "python",
   "name": "python3"
  },
  "language_info": {
   "codemirror_mode": {
    "name": "ipython",
    "version": 3
   },
   "file_extension": ".py",
   "mimetype": "text/x-python",
   "name": "python",
   "nbconvert_exporter": "python",
   "pygments_lexer": "ipython3",
   "version": "3.10.8"
  }
 },
 "nbformat": 4,
 "nbformat_minor": 5
}
