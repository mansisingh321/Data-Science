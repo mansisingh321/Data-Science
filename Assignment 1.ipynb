{
 "cells": [
  {
   "cell_type": "code",
   "execution_count": 1,
   "id": "92b6bdb3-2c21-4521-aaf5-2b32b4f11159",
   "metadata": {},
   "outputs": [],
   "source": [
    "# Que1\n",
    "\n",
    "# 1(i) String\n",
    "s = 'pw skills'\n",
    "\n",
    "# 1(ii) List\n",
    "l = [2, 78, 45, 3.666, \"pw skills\", False, 6+8j ]\n",
    "\n",
    "# 1(iii)  float\n",
    "f = 6.666\n",
    "\n",
    "# 1(iv)  tuple\n",
    "a = (2,3,4)\n"
   ]
  },
  {
   "cell_type": "code",
   "execution_count": 2,
   "id": "88e0c3fa-8bd2-4bba-9831-40cc3e450d8a",
   "metadata": {},
   "outputs": [
    {
     "data": {
      "text/plain": [
       "int"
      ]
     },
     "execution_count": 2,
     "metadata": {},
     "output_type": "execute_result"
    }
   ],
   "source": [
    "# Que 2\n",
    "var1 = ''\n",
    "type(var1)  # string\n",
    "\n",
    "var2 = '[DS, ML, Python]'\n",
    "type(var2)  # string\n",
    "\n",
    "var3 = ['DS', 'ML', 'Python']\n",
    "type(var3) # list\n",
    "\n",
    "var4 = 1\n",
    "type(var4) # integer"
   ]
  },
  {
   "cell_type": "code",
   "execution_count": 3,
   "id": "b073fc8b-3674-4f66-bdf5-ab98fc31ae0e",
   "metadata": {},
   "outputs": [
    {
     "data": {
      "text/plain": [
       "9"
      ]
     },
     "execution_count": 3,
     "metadata": {},
     "output_type": "execute_result"
    }
   ],
   "source": [
    "# Que3\n",
    "# 3(i) Division operator (/)---> It simply divides the term and gives the quotient as an output\n",
    "5/2\n",
    "\n",
    "#3(ii) Reminder operator (%)---> It divides the number and then gives the reminder as an output\n",
    "5%2\n",
    "\n",
    "# 3(iii)  Division floor operator---> It first divides the number and then gives the floor value of the quotient as an output\n",
    "7//3 \n",
    "\n",
    "# 3(iv) Power operator (**)--> Simply powers the number \n",
    "3**2\n"
   ]
  },
  {
   "cell_type": "code",
   "execution_count": 4,
   "id": "49b982ed-cb4b-4367-a763-3e307c24d01a",
   "metadata": {},
   "outputs": [],
   "source": [
    "# Que 4 \n",
    "l = [3, 7, \"lab\", 6.88, True, 5+8j, False, 6, \"pw skills\", 8-8j]"
   ]
  },
  {
   "cell_type": "code",
   "execution_count": 5,
   "id": "fada25b8-cdc0-45f0-88c9-a11a733ff75e",
   "metadata": {},
   "outputs": [
    {
     "data": {
      "text/plain": [
       "10"
      ]
     },
     "execution_count": 5,
     "metadata": {},
     "output_type": "execute_result"
    }
   ],
   "source": [
    "len(l)"
   ]
  },
  {
   "cell_type": "code",
   "execution_count": 6,
   "id": "047c754c-447e-4e33-8041-5bb7256aefdd",
   "metadata": {},
   "outputs": [
    {
     "name": "stdout",
     "output_type": "stream",
     "text": [
      "3\n",
      "<class 'int'>\n",
      "7\n",
      "<class 'int'>\n",
      "lab\n",
      "<class 'str'>\n",
      "6.88\n",
      "<class 'float'>\n",
      "True\n",
      "<class 'bool'>\n",
      "(5+8j)\n",
      "<class 'complex'>\n",
      "False\n",
      "<class 'bool'>\n",
      "6\n",
      "<class 'int'>\n",
      "pw skills\n",
      "<class 'str'>\n",
      "(8-8j)\n",
      "<class 'complex'>\n"
     ]
    }
   ],
   "source": [
    "for i in l :\n",
    "    print(i)\n",
    "    print(type(i))"
   ]
  },
  {
   "cell_type": "code",
   "execution_count": 7,
   "id": "36146e15-664f-4e55-baa3-1f02edbc6f9d",
   "metadata": {},
   "outputs": [
    {
     "name": "stdin",
     "output_type": "stream",
     "text": [
      "Enter the value of A 6\n",
      "Enter the value of B 7\n"
     ]
    },
    {
     "name": "stdout",
     "output_type": "stream",
     "text": [
      "It's not divisible\n"
     ]
    }
   ],
   "source": [
    "# Que 5\n",
    "A = int(input(\"Enter the value of A\"))\n",
    "B = int(input(\"Enter the value of B\"))\n",
    "\n",
    "while B%A ==0 :\n",
    "    print(\"The number B is divisible by A \")\n",
    "    break\n",
    "else :\n",
    "        print(\"It's not divisible\")\n"
   ]
  },
  {
   "cell_type": "code",
   "execution_count": 10,
   "id": "85d13e3a-1de2-4028-aaeb-44c81582c543",
   "metadata": {},
   "outputs": [],
   "source": [
    "# Que 6\n",
    "\n",
    "l = list(range(0,25))"
   ]
  },
  {
   "cell_type": "code",
   "execution_count": 168,
   "id": "807916f0-8f57-429d-a655-ed24d3405297",
   "metadata": {},
   "outputs": [
    {
     "name": "stdout",
     "output_type": "stream",
     "text": [
      "This number is divisible by 3:  0\n",
      "This number is not divisible by 3:  1\n",
      "This number is not divisible by 3:  2\n",
      "This number is divisible by 3:  3\n",
      "This number is not divisible by 3:  4\n",
      "This number is not divisible by 3:  5\n",
      "This number is divisible by 3:  6\n",
      "This number is not divisible by 3:  7\n",
      "This number is not divisible by 3:  8\n",
      "This number is divisible by 3:  9\n",
      "This number is not divisible by 3:  10\n",
      "This number is not divisible by 3:  11\n",
      "This number is divisible by 3:  12\n",
      "This number is not divisible by 3:  13\n",
      "This number is not divisible by 3:  14\n",
      "This number is divisible by 3:  15\n",
      "This number is not divisible by 3:  16\n",
      "This number is not divisible by 3:  17\n",
      "This number is divisible by 3:  18\n",
      "This number is not divisible by 3:  19\n",
      "This number is not divisible by 3:  20\n",
      "This number is divisible by 3:  21\n",
      "This number is not divisible by 3:  22\n",
      "This number is not divisible by 3:  23\n",
      "This number is divisible by 3:  24\n"
     ]
    }
   ],
   "source": [
    "for i in l :\n",
    "    if (i%3 == 0) :\n",
    "        print(\"This number is divisible by 3: \", i)\n",
    "        i=i+1\n",
    "                \n",
    "    elif (i==0) :\n",
    "        break\n",
    "        \n",
    "    elif (i%3!=0) :\n",
    "            print(\"This number is not divisible by 3: \", i)\n",
    "\n",
    "    "
   ]
  },
  {
   "cell_type": "code",
   "execution_count": null,
   "id": "3048eb30-c846-481e-9a67-40d48a54f839",
   "metadata": {},
   "outputs": [],
   "source": [
    "# Que 7\n",
    "\n",
    "\"\"\" Mutability means if u are able to change something at a particular index for a particular datatype.\n",
    "Example- list,  In list we can change any particular element \n",
    " Immutability means if u are not able to change something at a particulaar index for particular datatype  \n",
    " Example - strings,  In strings we cannot change any particular letter of the string \n",
    "\"\"\""
   ]
  }
 ],
 "metadata": {
  "kernelspec": {
   "display_name": "Python 3 (ipykernel)",
   "language": "python",
   "name": "python3"
  },
  "language_info": {
   "codemirror_mode": {
    "name": "ipython",
    "version": 3
   },
   "file_extension": ".py",
   "mimetype": "text/x-python",
   "name": "python",
   "nbconvert_exporter": "python",
   "pygments_lexer": "ipython3",
   "version": "3.10.8"
  }
 },
 "nbformat": 4,
 "nbformat_minor": 5
}
