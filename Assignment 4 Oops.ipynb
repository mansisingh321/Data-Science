{
 "cells": [
  {
   "cell_type": "markdown",
   "id": "41a2036b-1932-4c94-9f86-3cf7cf870e09",
   "metadata": {},
   "source": [
    "## ASSIGNMENT 5 Oops"
   ]
  },
  {
   "cell_type": "markdown",
   "id": "7c4f8910-985d-40d4-a149-a42e1c8413e9",
   "metadata": {},
   "source": [
    "#### Que1 :  Explain class and object with respect to Oops with example.\n",
    "\n",
    "Ans.    Class : Classes are user defined datatypes that act as the blueprint for individual objects, attributes and methods. \n",
    "Object : Objects are instances of a class created with specifically defined data, Objects can correspond to real- world objects or an abstract entity.\n",
    "\n",
    "Example : Car is a class, whereas the different varieties of cars like Jaguar, BMW, Tesla are objects."
   ]
  },
  {
   "cell_type": "code",
   "execution_count": null,
   "id": "186b96f7-c337-4b03-98b0-a4785cd8fd5a",
   "metadata": {},
   "outputs": [],
   "source": []
  },
  {
   "cell_type": "markdown",
   "id": "35ce5fe4-85b6-4dec-bc31-f5a99b6f6122",
   "metadata": {},
   "source": [
    "#### Que 2:  Name the four pillars of Oops.\n",
    "\n",
    "Ans.  Polymorphism, Encapsulation, Inheritance, Abstraction.\n",
    "                 "
   ]
  },
  {
   "cell_type": "code",
   "execution_count": null,
   "id": "8961e4af-5277-4fd2-bc93-8d7fed8d24a4",
   "metadata": {},
   "outputs": [],
   "source": []
  },
  {
   "cell_type": "code",
   "execution_count": 10,
   "id": "1bd4a658-c647-4afb-94ec-5524ad6f6099",
   "metadata": {},
   "outputs": [],
   "source": [
    "\"\"\"Que 3: Explain why __init__() function is used. Give suitable example.\n",
    "\n",
    "Ans.  The __init__() function works like the constructor method in Oops, It is used to declare, initialize and manipulate the object.\n",
    "Example :\n",
    "\"\"\"\n",
    "class test :\n",
    "    def __init__ (self, name):\n",
    "        self.name = name\n",
    "        "
   ]
  },
  {
   "cell_type": "code",
   "execution_count": 12,
   "id": "deedc840-c37b-4597-a020-eabc7b953f96",
   "metadata": {},
   "outputs": [],
   "source": [
    "obj = test(\"pwskills\")"
   ]
  },
  {
   "cell_type": "code",
   "execution_count": 13,
   "id": "f6a0d8cd-7ee3-4b02-8300-61290f50509e",
   "metadata": {},
   "outputs": [
    {
     "data": {
      "text/plain": [
       "'pwskills'"
      ]
     },
     "execution_count": 13,
     "metadata": {},
     "output_type": "execute_result"
    }
   ],
   "source": [
    "obj.name"
   ]
  },
  {
   "cell_type": "code",
   "execution_count": null,
   "id": "91b5de6b-fdf4-4b74-96a8-ef82c39055b2",
   "metadata": {},
   "outputs": [],
   "source": []
  },
  {
   "cell_type": "markdown",
   "id": "52b4c1c6-f1d8-48c7-be21-4746b3027f5e",
   "metadata": {},
   "source": [
    " Que 4: Why self is used in Oops?\n",
    "\n",
    "Ans.  The self variable is used to represent the instance of the class. It is a keyword that works as a reference to the object."
   ]
  },
  {
   "cell_type": "code",
   "execution_count": null,
   "id": "2d66818b-b277-4472-a9fc-c4dda187eeeb",
   "metadata": {},
   "outputs": [],
   "source": []
  },
  {
   "cell_type": "markdown",
   "id": "775200fa-1c95-4167-ab06-e494a532d21e",
   "metadata": {},
   "source": [
    "Que 5 :  what is inheritance? Give an example for each type of inheritance\n",
    "\n",
    "Ans:  Inheritance is a mechanism where one class acquires the property of other class. It provides the way of achieving code re-usability. \n",
    "Example:  A child inherits the traits of his/her parents.\n",
    "\n",
    "There are various types of inheritace:\n"
   ]
  },
  {
   "cell_type": "code",
   "execution_count": 8,
   "id": "f60de596-f428-4c00-a8f7-cd40c873affb",
   "metadata": {},
   "outputs": [
    {
     "name": "stdout",
     "output_type": "stream",
     "text": [
      "The animal is eating.\n",
      "The dog is barking.\n"
     ]
    }
   ],
   "source": [
    "##   1. Single Inheritance:\n",
    "# Single inheritance occurs when a derived class inherits properties and behaviors from a single base class. The derived class extends or specializes the functionality of the base class.\n",
    "\n",
    "# Example:\n",
    "\n",
    "class Animal:\n",
    "    def eat(self):\n",
    "        print(\"The animal is eating.\")\n",
    "\n",
    "class Dog(Animal):\n",
    "    def bark(self):\n",
    "        print(\"The dog is barking.\")\n",
    "\n",
    "dog = Dog()\n",
    "dog.eat()  # Inherited from Animal class\n",
    "dog.bark()  # Defined in Dog class\n"
   ]
  },
  {
   "cell_type": "code",
   "execution_count": 9,
   "id": "55cf7b1b-8803-4de6-a63d-b2d5ceedf029",
   "metadata": {},
   "outputs": [
    {
     "name": "stdout",
     "output_type": "stream",
     "text": [
      "The bird is flying.\n",
      "The mammal is feeding its young.\n"
     ]
    }
   ],
   "source": [
    "### 2. Multiple Inheritance:\n",
    "# Multiple inheritance occurs when a derived class inherits properties and behaviors from multiple base classes. The derived class combines the features of all the base classes.\n",
    "#  Example:\n",
    "\n",
    "class Bird:\n",
    "    def fly(self):\n",
    "        print(\"The bird is flying.\")\n",
    "\n",
    "class Mammal:\n",
    "    def feed_young(self):\n",
    "        print(\"The mammal is feeding its young.\")\n",
    "\n",
    "class Bat(Bird, Mammal):\n",
    "    pass\n",
    "\n",
    "\n",
    "bat = Bat()\n",
    "bat.fly()  # Inherited from Bird class\n",
    "bat.feed_young()  # Inherited from Mammal class"
   ]
  },
  {
   "cell_type": "code",
   "execution_count": 6,
   "id": "9f03687f-9944-4225-8c29-d812bdf45461",
   "metadata": {},
   "outputs": [
    {
     "name": "stdout",
     "output_type": "stream",
     "text": [
      "The vehicle is moving.\n",
      "The car is accelerating.\n",
      "The sports car is boosting.\n"
     ]
    }
   ],
   "source": [
    "###  3. Multilevel Inheritance:\n",
    "# Multilevel inheritance occurs when a derived class becomes the base class for another derived class. It creates a parent-child relationship between multiple classes.\n",
    "# Example:\n",
    "\n",
    "class Vehicle:\n",
    "    def move(self):\n",
    "        print(\"The vehicle is moving.\")\n",
    "\n",
    "class Car(Vehicle):\n",
    "    def accelerate(self):\n",
    "        print(\"The car is accelerating.\")\n",
    "\n",
    "class SportsCar(Car):\n",
    "    def boost(self):\n",
    "        print(\"The sports car is boosting.\")\n",
    "\n",
    "car = SportsCar()\n",
    "car.move()  # Inherited from Vehicle class\n",
    "car.accelerate()  # Inherited from Car class\n",
    "car.boost()  # Defined in SportsCar class\n",
    "\n"
   ]
  },
  {
   "cell_type": "code",
   "execution_count": 7,
   "id": "6b36c8b0-eee0-446f-8880-02a2aa1d1765",
   "metadata": {},
   "outputs": [
    {
     "name": "stdout",
     "output_type": "stream",
     "text": [
      "The shape is being drawn.\n",
      "The area of the circle is being calculated.\n",
      "The shape is being drawn.\n",
      "The area of the rectangle is being calculated.\n"
     ]
    }
   ],
   "source": [
    "### 4. Hierarchical Inheritance:\n",
    "# Hierarchical inheritance occurs when multiple derived classes inherit from a single base class. It represents a one-to-many relationship between classes.\n",
    "# Example:\n",
    "\n",
    "class Shape:\n",
    "    def draw(self):\n",
    "        print(\"The shape is being drawn.\")\n",
    "\n",
    "class Circle(Shape):\n",
    "    def calculate_area(self):\n",
    "        print(\"The area of the circle is being calculated.\")\n",
    "\n",
    "class Rectangle(Shape):\n",
    "    def calculate_area(self):\n",
    "        print(\"The area of the rectangle is being calculated.\")\n",
    "\n",
    "circle = Circle()\n",
    "circle.draw()  # Inherited from Shape class\n",
    "circle.calculate_area()  # Defined in Circle class\n",
    "\n",
    "rectangle = Rectangle()\n",
    "rectangle.draw()  # Inherited from Shape class\n",
    "rectangle.calculate_area()  # Defined in Rectangle class"
   ]
  },
  {
   "cell_type": "code",
   "execution_count": null,
   "id": "a56c0c6c-077c-4ff0-95c0-c813c42d9a9b",
   "metadata": {},
   "outputs": [],
   "source": []
  }
 ],
 "metadata": {
  "kernelspec": {
   "display_name": "Python 3 (ipykernel)",
   "language": "python",
   "name": "python3"
  },
  "language_info": {
   "codemirror_mode": {
    "name": "ipython",
    "version": 3
   },
   "file_extension": ".py",
   "mimetype": "text/x-python",
   "name": "python",
   "nbconvert_exporter": "python",
   "pygments_lexer": "ipython3",
   "version": "3.10.8"
  }
 },
 "nbformat": 4,
 "nbformat_minor": 5
}
